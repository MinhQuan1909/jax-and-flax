{
 "cells": [
  {
   "cell_type": "code",
   "execution_count": 11,
   "id": "6ce06f0c",
   "metadata": {
    "metadata": {}
   },
   "outputs": [
    {
     "name": "stdout",
     "output_type": "stream",
     "text": [
      "Requirement already satisfied: pandas in c:\\users\\lemin\\anaconda3\\envs\\hehe\\lib\\site-packages (2.2.2)\n",
      "Requirement already satisfied: numpy>=1.26.0 in c:\\users\\lemin\\anaconda3\\envs\\hehe\\lib\\site-packages (from pandas) (1.26.4)\n",
      "Requirement already satisfied: python-dateutil>=2.8.2 in c:\\users\\lemin\\anaconda3\\envs\\hehe\\lib\\site-packages (from pandas) (2.8.2)\n",
      "Requirement already satisfied: pytz>=2020.1 in c:\\users\\lemin\\anaconda3\\envs\\hehe\\lib\\site-packages (from pandas) (2024.1)\n",
      "Requirement already satisfied: tzdata>=2022.7 in c:\\users\\lemin\\anaconda3\\envs\\hehe\\lib\\site-packages (from pandas) (2024.1)\n",
      "Requirement already satisfied: six>=1.5 in c:\\users\\lemin\\anaconda3\\envs\\hehe\\lib\\site-packages (from python-dateutil>=2.8.2->pandas) (1.16.0)\n",
      "Note: you may need to restart the kernel to use updated packages.\n"
     ]
    }
   ],
   "source": [
    "pip install pandas\n"
   ]
  },
  {
   "cell_type": "code",
   "execution_count": 1,
   "id": "ded3aa21-6f79-416e-b3c2-817768c502a0",
   "metadata": {
    "metadata": {}
   },
   "outputs": [],
   "source": [
    "import numpy as np\n",
    "import pandas as pd \n",
    "SEED = 1337"
   ]
  },
  {
   "cell_type": "code",
   "execution_count": 2,
   "id": "16a0fb41-a89d-4575-ad39-60484e8c6609",
   "metadata": {
    "metadata": {}
   },
   "outputs": [],
   "source": [
    "df_train = pd.read_csv('data1000\\\\train_data.csv')"
   ]
  },
  {
   "cell_type": "code",
   "execution_count": 3,
   "id": "3ba04cd5",
   "metadata": {
    "metadata": {}
   },
   "outputs": [],
   "source": [
    "from sklearn.model_selection import KFold\n",
    "\n",
    "# Số fold\n",
    "n_folds = 10\n",
    "\n",
    "# KFold\n",
    "cv = KFold(n_splits=n_folds)\n",
    "\n",
    "# Lưu fold vào các file CSV\n",
    "for fold_idx, (train_index, test_index) in enumerate(cv.split(df_train)):\n",
    "    fold_train = df_train.iloc[train_index]\n",
    "    fold_test = df_train.iloc[test_index]\n",
    "    fold_train.to_csv(f'fold_{fold_idx+1}_train.csv', index=False)\n",
    "    fold_test.to_csv(f'fold_{fold_idx+1}_valid.csv', index=False)\n"
   ]
  },
  {
   "cell_type": "code",
   "execution_count": null,
   "id": "9c3ef21d",
   "metadata": {},
   "outputs": [],
   "source": []
  }
 ],
 "metadata": {
  "kernelspec": {
   "display_name": "Python 3 (ipykernel)",
   "language": "python",
   "name": "python3"
  },
  "language_info": {
   "codemirror_mode": {
    "name": "ipython",
    "version": 3
   },
   "file_extension": ".py",
   "mimetype": "text/x-python",
   "name": "python",
   "nbconvert_exporter": "python",
   "pygments_lexer": "ipython3",
   "version": "3.12.2"
  }
 },
 "nbformat": 4,
 "nbformat_minor": 5
}
